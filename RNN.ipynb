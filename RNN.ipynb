{
 "cells": [
  {
   "cell_type": "code",
   "execution_count": 1,
   "metadata": {},
   "outputs": [
    {
     "name": "stderr",
     "output_type": "stream",
     "text": [
      "Using TensorFlow backend.\n"
     ]
    }
   ],
   "source": [
    "import matplotlib.pyplot as plt\n",
    "from matplotlib import style\n",
    "from mpl_toolkits.mplot3d import axes3d\n",
    "import numpy as np\n",
    "import pandas as pd\n",
    "import keras\n",
    "import tensorflow as tf"
   ]
  },
  {
   "cell_type": "markdown",
   "metadata": {},
   "source": [
    "# Stock Prize prediction Using LSTM layer in RNN to approximate the trend over a short period of time"
   ]
  },
  {
   "cell_type": "markdown",
   "metadata": {},
   "source": [
    "<img src=\"Stocks.jpg\" width=5000 height=120 />"
   ]
  },
  {
   "cell_type": "code",
   "execution_count": 2,
   "metadata": {},
   "outputs": [],
   "source": [
    "data_path_train = \"./dataset/Google_Stock_Price_Train.csv\"\n",
    "data_path_test = \"./dataset/Google_Stock_Price_Test.csv\""
   ]
  },
  {
   "cell_type": "code",
   "execution_count": 3,
   "metadata": {},
   "outputs": [],
   "source": [
    "df_train = pd.read_csv(data_path_train)\n",
    "df_test = pd.read_csv(data_path_test)"
   ]
  },
  {
   "cell_type": "code",
   "execution_count": 4,
   "metadata": {},
   "outputs": [
    {
     "data": {
      "text/html": [
       "<div>\n",
       "<style scoped>\n",
       "    .dataframe tbody tr th:only-of-type {\n",
       "        vertical-align: middle;\n",
       "    }\n",
       "\n",
       "    .dataframe tbody tr th {\n",
       "        vertical-align: top;\n",
       "    }\n",
       "\n",
       "    .dataframe thead th {\n",
       "        text-align: right;\n",
       "    }\n",
       "</style>\n",
       "<table border=\"1\" class=\"dataframe\">\n",
       "  <thead>\n",
       "    <tr style=\"text-align: right;\">\n",
       "      <th></th>\n",
       "      <th>Date</th>\n",
       "      <th>Open</th>\n",
       "      <th>High</th>\n",
       "      <th>Low</th>\n",
       "      <th>Close</th>\n",
       "      <th>Volume</th>\n",
       "    </tr>\n",
       "  </thead>\n",
       "  <tbody>\n",
       "    <tr>\n",
       "      <th>0</th>\n",
       "      <td>1/3/2012</td>\n",
       "      <td>325.25</td>\n",
       "      <td>332.83</td>\n",
       "      <td>324.97</td>\n",
       "      <td>663.59</td>\n",
       "      <td>7,380,500</td>\n",
       "    </tr>\n",
       "    <tr>\n",
       "      <th>1</th>\n",
       "      <td>1/4/2012</td>\n",
       "      <td>331.27</td>\n",
       "      <td>333.87</td>\n",
       "      <td>329.08</td>\n",
       "      <td>666.45</td>\n",
       "      <td>5,749,400</td>\n",
       "    </tr>\n",
       "    <tr>\n",
       "      <th>2</th>\n",
       "      <td>1/5/2012</td>\n",
       "      <td>329.83</td>\n",
       "      <td>330.75</td>\n",
       "      <td>326.89</td>\n",
       "      <td>657.21</td>\n",
       "      <td>6,590,300</td>\n",
       "    </tr>\n",
       "    <tr>\n",
       "      <th>3</th>\n",
       "      <td>1/6/2012</td>\n",
       "      <td>328.34</td>\n",
       "      <td>328.77</td>\n",
       "      <td>323.68</td>\n",
       "      <td>648.24</td>\n",
       "      <td>5,405,900</td>\n",
       "    </tr>\n",
       "    <tr>\n",
       "      <th>4</th>\n",
       "      <td>1/9/2012</td>\n",
       "      <td>322.04</td>\n",
       "      <td>322.29</td>\n",
       "      <td>309.46</td>\n",
       "      <td>620.76</td>\n",
       "      <td>11,688,800</td>\n",
       "    </tr>\n",
       "  </tbody>\n",
       "</table>\n",
       "</div>"
      ],
      "text/plain": [
       "       Date    Open    High     Low   Close      Volume\n",
       "0  1/3/2012  325.25  332.83  324.97  663.59   7,380,500\n",
       "1  1/4/2012  331.27  333.87  329.08  666.45   5,749,400\n",
       "2  1/5/2012  329.83  330.75  326.89  657.21   6,590,300\n",
       "3  1/6/2012  328.34  328.77  323.68  648.24   5,405,900\n",
       "4  1/9/2012  322.04  322.29  309.46  620.76  11,688,800"
      ]
     },
     "execution_count": 4,
     "metadata": {},
     "output_type": "execute_result"
    }
   ],
   "source": [
    "df_train.head(5)"
   ]
  },
  {
   "cell_type": "markdown",
   "metadata": {},
   "source": [
    "**In this File we will try to predict whether the Google Stock Price Open that day will go up or down Using Recurrent Neural Network(with LSTM layers)**"
   ]
  },
  {
   "cell_type": "markdown",
   "metadata": {},
   "source": [
    "<img src=\"LSTM3-chain.png\" width=5000 height=120 />"
   ]
  },
  {
   "cell_type": "markdown",
   "metadata": {},
   "source": [
    "**Long Short Term Memory(LSTM)** are a mini neural network which facilitates by Remembering Some part of the previous Data.\\\n",
    "The Key to LSTMs is the cell pipeline which is the horizontal line running thorough the top of the diagram."
   ]
  },
  {
   "cell_type": "markdown",
   "metadata": {},
   "source": [
    "The cell state is kind of like a conveyor belt. It runs straight down the entire chain, with only some minor linear interactions. It’s very easy for information to just flow along it unchanged."
   ]
  },
  {
   "cell_type": "code",
   "execution_count": 5,
   "metadata": {},
   "outputs": [
    {
     "data": {
      "text/plain": [
       "array([[325.25],\n",
       "       [331.27],\n",
       "       [329.83],\n",
       "       ...,\n",
       "       [793.7 ],\n",
       "       [783.33],\n",
       "       [782.75]])"
      ]
     },
     "execution_count": 5,
     "metadata": {},
     "output_type": "execute_result"
    }
   ],
   "source": [
    "training_set = df_train.iloc[:, 1:2].values\n",
    "training_set"
   ]
  },
  {
   "cell_type": "markdown",
   "metadata": {},
   "source": [
    "# Feature Scaling"
   ]
  },
  {
   "cell_type": "markdown",
   "metadata": {},
   "source": [
    "We normalize the data set using the formula\n",
    "\n",
    "$ X = \\frac{X_1 - X_{Min}}{X_{Max - X_{Min}}} $\\\n",
    "\\\n",
    "To put the values Between 0 and 1"
   ]
  },
  {
   "cell_type": "code",
   "execution_count": 6,
   "metadata": {},
   "outputs": [],
   "source": [
    "from sklearn.preprocessing import MinMaxScaler\n",
    "sc = MinMaxScaler(feature_range=(0, 1))\n",
    "training_set_scaled = sc.fit_transform(training_set)"
   ]
  },
  {
   "cell_type": "code",
   "execution_count": 7,
   "metadata": {},
   "outputs": [],
   "source": [
    "# Create a data structure with 60 timsteps and 1 output\n",
    "\n",
    "X_train = []\n",
    "y_train = []\n",
    "\n",
    "for i in range(60,1258):\n",
    "    X_train.append(training_set_scaled[i-60:i, 0])\n",
    "    y_train.append(training_set_scaled[i, 0])\n",
    "    \n",
    "X_train, y_train = np.array(X_train), np.array(y_train)"
   ]
  },
  {
   "cell_type": "code",
   "execution_count": 8,
   "metadata": {},
   "outputs": [
    {
     "data": {
      "text/plain": [
       "(1198, 60)"
      ]
     },
     "execution_count": 8,
     "metadata": {},
     "output_type": "execute_result"
    }
   ],
   "source": [
    "X_train.shape"
   ]
  },
  {
   "cell_type": "markdown",
   "metadata": {},
   "source": [
    "**Recurrent Neural Network requires a 3-D tensor as input**"
   ]
  },
  {
   "cell_type": "code",
   "execution_count": 9,
   "metadata": {},
   "outputs": [],
   "source": [
    "X_train = np.reshape(X_train, (X_train.shape[0], X_train.shape[1], 1))"
   ]
  },
  {
   "cell_type": "markdown",
   "metadata": {},
   "source": [
    "# Building RNN"
   ]
  },
  {
   "cell_type": "code",
   "execution_count": 10,
   "metadata": {},
   "outputs": [],
   "source": [
    "from tensorflow.keras.models import Sequential\n",
    "from tensorflow.keras.layers import Dense, Dropout, LSTM"
   ]
  },
  {
   "cell_type": "markdown",
   "metadata": {},
   "source": [
    "## Model"
   ]
  },
  {
   "cell_type": "code",
   "execution_count": 11,
   "metadata": {},
   "outputs": [],
   "source": [
    "regressor = Sequential()\n",
    "\n",
    "\n",
    "# Adding the first LSTM layer and some dropout regularization\n",
    "regressor.add(LSTM(units=50, return_sequences=True, input_shape=(X_train.shape[1], 1)))\n",
    "regressor.add(Dropout(0.2))\n",
    "\n",
    "# Adding the first LSTM layer and some dropout regularization\n",
    "regressor.add(LSTM(units=50, return_sequences=True))\n",
    "regressor.add(Dropout(0.2))\n",
    "\n",
    "# Adding the first LSTM layer and some dropout regularization\n",
    "regressor.add(LSTM(units=50, return_sequences=True))\n",
    "regressor.add(Dropout(0.2))\n",
    "\n",
    "# Adding the first LSTM layer and some dropout regularization\n",
    "regressor.add(LSTM(units=50))\n",
    "regressor.add(Dropout(0.2))\n",
    "\n",
    "\n",
    "regressor.add(Dense(units=1))"
   ]
  },
  {
   "cell_type": "code",
   "execution_count": 12,
   "metadata": {},
   "outputs": [],
   "source": [
    "regressor.compile(optimizer=\"adam\", loss='mean_squared_error', metrics=['accuracy'])"
   ]
  },
  {
   "cell_type": "markdown",
   "metadata": {},
   "source": [
    "<img src=\"Chart.png\" width=500/>"
   ]
  },
  {
   "cell_type": "markdown",
   "metadata": {},
   "source": [
    "## Putting the Tensorboard callback\n",
    "Use `tensorboard --logdir logs/scalars` command to open the tensorboard dashboard on localhost:6006"
   ]
  },
  {
   "cell_type": "code",
   "execution_count": 13,
   "metadata": {},
   "outputs": [],
   "source": [
    "import tensorflow as tf\n",
    "from datetime import datetime\n",
    "\n",
    "logdir = \"logs/scalars/\" + datetime.now().strftime(\"%Y%m%d-%H%M%S\")\n",
    "tensorboard_callback = tf.keras.callbacks.TensorBoard(log_dir=logdir, write_graph = True, histogram_freq=5)\n",
    "\n",
    "callback = [tensorboard_callback]"
   ]
  },
  {
   "cell_type": "markdown",
   "metadata": {},
   "source": [
    "## Training"
   ]
  },
  {
   "cell_type": "code",
   "execution_count": 14,
   "metadata": {
    "scrolled": true
   },
   "outputs": [
    {
     "name": "stdout",
     "output_type": "stream",
     "text": [
      "Train on 1198 samples\n",
      "Epoch 1/100\n",
      "1198/1198 [==============================] - 13s 11ms/sample - loss: 0.0417 - accuracy: 0.0017\n",
      "Epoch 2/100\n",
      "1198/1198 [==============================] - 6s 5ms/sample - loss: 0.0065 - accuracy: 0.0017\n",
      "Epoch 3/100\n",
      "1198/1198 [==============================] - 6s 5ms/sample - loss: 0.0050 - accuracy: 0.0017\n",
      "Epoch 4/100\n",
      "1198/1198 [==============================] - 5s 5ms/sample - loss: 0.0051 - accuracy: 0.0017\n",
      "Epoch 5/100\n",
      "1198/1198 [==============================] - 5s 4ms/sample - loss: 0.0054 - accuracy: 0.0017\n",
      "Epoch 6/100\n",
      "1198/1198 [==============================] - 5s 4ms/sample - loss: 0.0050 - accuracy: 0.0017\n",
      "Epoch 7/100\n",
      "1198/1198 [==============================] - 6s 5ms/sample - loss: 0.0054 - accuracy: 0.0017\n",
      "Epoch 8/100\n",
      "1198/1198 [==============================] - 5s 5ms/sample - loss: 0.0048 - accuracy: 0.0017\n",
      "Epoch 9/100\n",
      "1198/1198 [==============================] - 5s 5ms/sample - loss: 0.0045 - accuracy: 0.0017\n",
      "Epoch 10/100\n",
      "1198/1198 [==============================] - 5s 5ms/sample - loss: 0.0038 - accuracy: 0.0017\n",
      "Epoch 11/100\n",
      "1198/1198 [==============================] - 6s 5ms/sample - loss: 0.0042 - accuracy: 0.0017\n",
      "Epoch 12/100\n",
      "1198/1198 [==============================] - 5s 5ms/sample - loss: 0.0039 - accuracy: 0.0017\n",
      "Epoch 13/100\n",
      "1198/1198 [==============================] - 6s 5ms/sample - loss: 0.0043 - accuracy: 0.0017\n",
      "Epoch 14/100\n",
      "1198/1198 [==============================] - 5s 5ms/sample - loss: 0.0042 - accuracy: 0.0017\n",
      "Epoch 15/100\n",
      "1198/1198 [==============================] - 6s 5ms/sample - loss: 0.0043 - accuracy: 0.0017\n",
      "Epoch 16/100\n",
      "1198/1198 [==============================] - 5s 5ms/sample - loss: 0.0038 - accuracy: 0.0017\n",
      "Epoch 17/100\n",
      "1198/1198 [==============================] - 6s 5ms/sample - loss: 0.0037 - accuracy: 0.0017\n",
      "Epoch 18/100\n",
      "1198/1198 [==============================] - 6s 5ms/sample - loss: 0.0038 - accuracy: 0.0017\n",
      "Epoch 19/100\n",
      "1198/1198 [==============================] - 6s 5ms/sample - loss: 0.0038 - accuracy: 0.0017\n",
      "Epoch 20/100\n",
      "1198/1198 [==============================] - 5s 5ms/sample - loss: 0.0035 - accuracy: 0.0017\n",
      "Epoch 21/100\n",
      "1198/1198 [==============================] - 5s 4ms/sample - loss: 0.0039 - accuracy: 0.0017\n",
      "Epoch 22/100\n",
      "1198/1198 [==============================] - 5s 4ms/sample - loss: 0.0034 - accuracy: 0.0017\n",
      "Epoch 23/100\n",
      "1198/1198 [==============================] - 5s 4ms/sample - loss: 0.0036 - accuracy: 0.0017\n",
      "Epoch 24/100\n",
      "1198/1198 [==============================] - 5s 4ms/sample - loss: 0.0033 - accuracy: 0.0017\n",
      "Epoch 25/100\n",
      "1198/1198 [==============================] - 5s 5ms/sample - loss: 0.0037 - accuracy: 0.0017\n",
      "Epoch 26/100\n",
      "1198/1198 [==============================] - 6s 5ms/sample - loss: 0.0033 - accuracy: 0.0017\n",
      "Epoch 27/100\n",
      "1198/1198 [==============================] - 7s 6ms/sample - loss: 0.0035 - accuracy: 0.0017\n",
      "Epoch 28/100\n",
      "1198/1198 [==============================] - 7s 6ms/sample - loss: 0.0034 - accuracy: 0.0017\n",
      "Epoch 29/100\n",
      "1198/1198 [==============================] - 8s 6ms/sample - loss: 0.0034 - accuracy: 0.0017\n",
      "Epoch 30/100\n",
      "1198/1198 [==============================] - 6s 5ms/sample - loss: 0.0031 - accuracy: 0.0017\n",
      "Epoch 31/100\n",
      "1198/1198 [==============================] - 6s 5ms/sample - loss: 0.0027 - accuracy: 0.0017\n",
      "Epoch 32/100\n",
      "1198/1198 [==============================] - 7s 6ms/sample - loss: 0.0030 - accuracy: 0.0017\n",
      "Epoch 33/100\n",
      "1198/1198 [==============================] - 7s 6ms/sample - loss: 0.0030 - accuracy: 0.0017\n",
      "Epoch 34/100\n",
      "1198/1198 [==============================] - 6s 5ms/sample - loss: 0.0035 - accuracy: 0.0017\n",
      "Epoch 35/100\n",
      "1198/1198 [==============================] - 5s 5ms/sample - loss: 0.0026 - accuracy: 0.0017\n",
      "Epoch 36/100\n",
      "1198/1198 [==============================] - 5s 5ms/sample - loss: 0.0031 - accuracy: 0.0017\n",
      "Epoch 37/100\n",
      "1198/1198 [==============================] - 6s 5ms/sample - loss: 0.0028 - accuracy: 0.0017\n",
      "Epoch 38/100\n",
      "1198/1198 [==============================] - 6s 5ms/sample - loss: 0.0028 - accuracy: 0.0017\n",
      "Epoch 39/100\n",
      "1198/1198 [==============================] - 6s 5ms/sample - loss: 0.0027 - accuracy: 0.0017\n",
      "Epoch 40/100\n",
      "1198/1198 [==============================] - 6s 5ms/sample - loss: 0.0027 - accuracy: 0.0017\n",
      "Epoch 41/100\n",
      "1198/1198 [==============================] - 6s 5ms/sample - loss: 0.0026 - accuracy: 0.0017\n",
      "Epoch 42/100\n",
      "1198/1198 [==============================] - 6s 5ms/sample - loss: 0.0027 - accuracy: 0.0017\n",
      "Epoch 43/100\n",
      "1198/1198 [==============================] - 6s 5ms/sample - loss: 0.0024 - accuracy: 0.0017\n",
      "Epoch 44/100\n",
      "1198/1198 [==============================] - 6s 5ms/sample - loss: 0.0023 - accuracy: 0.0017\n",
      "Epoch 45/100\n",
      "1198/1198 [==============================] - 6s 5ms/sample - loss: 0.0024 - accuracy: 0.0017\n",
      "Epoch 46/100\n",
      "1198/1198 [==============================] - 6s 5ms/sample - loss: 0.0024 - accuracy: 0.0017\n",
      "Epoch 47/100\n",
      "1198/1198 [==============================] - 6s 5ms/sample - loss: 0.0024 - accuracy: 0.0017\n",
      "Epoch 48/100\n",
      "1198/1198 [==============================] - 6s 5ms/sample - loss: 0.0025 - accuracy: 0.0017\n",
      "Epoch 49/100\n",
      "1198/1198 [==============================] - 6s 5ms/sample - loss: 0.0025 - accuracy: 0.0017\n",
      "Epoch 50/100\n",
      "1198/1198 [==============================] - 6s 5ms/sample - loss: 0.0024 - accuracy: 0.0017\n",
      "Epoch 51/100\n",
      "1198/1198 [==============================] - 6s 5ms/sample - loss: 0.0022 - accuracy: 0.0017\n",
      "Epoch 52/100\n",
      "1198/1198 [==============================] - 6s 5ms/sample - loss: 0.0024 - accuracy: 0.0017\n",
      "Epoch 53/100\n",
      "1198/1198 [==============================] - 6s 5ms/sample - loss: 0.0022 - accuracy: 0.0017\n",
      "Epoch 54/100\n",
      "1198/1198 [==============================] - 6s 5ms/sample - loss: 0.0025 - accuracy: 0.0017\n",
      "Epoch 55/100\n",
      "1198/1198 [==============================] - 6s 5ms/sample - loss: 0.0020 - accuracy: 0.0017\n",
      "Epoch 56/100\n",
      "1198/1198 [==============================] - 6s 5ms/sample - loss: 0.0020 - accuracy: 0.0017\n",
      "Epoch 57/100\n",
      "1198/1198 [==============================] - 6s 5ms/sample - loss: 0.0022 - accuracy: 0.0017\n",
      "Epoch 58/100\n",
      "1198/1198 [==============================] - 6s 5ms/sample - loss: 0.0021 - accuracy: 0.0017\n",
      "Epoch 59/100\n",
      "1198/1198 [==============================] - 6s 5ms/sample - loss: 0.0021 - accuracy: 0.0017\n",
      "Epoch 60/100\n",
      "1198/1198 [==============================] - 6s 5ms/sample - loss: 0.0023 - accuracy: 0.0017\n",
      "Epoch 61/100\n",
      "1198/1198 [==============================] - 6s 5ms/sample - loss: 0.0022 - accuracy: 0.0017\n",
      "Epoch 62/100\n",
      "1198/1198 [==============================] - 6s 5ms/sample - loss: 0.0023 - accuracy: 0.0017\n",
      "Epoch 63/100\n",
      "1198/1198 [==============================] - 5s 5ms/sample - loss: 0.0023 - accuracy: 0.0017\n",
      "Epoch 64/100\n",
      "1198/1198 [==============================] - 5s 4ms/sample - loss: 0.0022 - accuracy: 0.0017\n",
      "Epoch 65/100\n",
      "1198/1198 [==============================] - 5s 4ms/sample - loss: 0.0020 - accuracy: 0.0017\n",
      "Epoch 66/100\n",
      "1198/1198 [==============================] - 5s 5ms/sample - loss: 0.0021 - accuracy: 0.0017\n",
      "Epoch 67/100\n",
      "1198/1198 [==============================] - 6s 5ms/sample - loss: 0.0019 - accuracy: 0.0017\n",
      "Epoch 68/100\n",
      "1198/1198 [==============================] - 6s 5ms/sample - loss: 0.0020 - accuracy: 0.0017\n",
      "Epoch 69/100\n",
      "1198/1198 [==============================] - 6s 5ms/sample - loss: 0.0019 - accuracy: 0.0017\n",
      "Epoch 70/100\n",
      "1198/1198 [==============================] - 6s 5ms/sample - loss: 0.0023 - accuracy: 0.0017\n",
      "Epoch 71/100\n",
      "1198/1198 [==============================] - 6s 5ms/sample - loss: 0.0020 - accuracy: 0.0017\n",
      "Epoch 72/100\n",
      "1198/1198 [==============================] - 6s 5ms/sample - loss: 0.0020 - accuracy: 0.0017\n",
      "Epoch 73/100\n",
      "1198/1198 [==============================] - 6s 5ms/sample - loss: 0.0018 - accuracy: 0.0017\n",
      "Epoch 74/100\n",
      "1198/1198 [==============================] - 6s 5ms/sample - loss: 0.0018 - accuracy: 0.0017\n",
      "Epoch 75/100\n",
      "1198/1198 [==============================] - 6s 5ms/sample - loss: 0.0020 - accuracy: 0.0017\n",
      "Epoch 76/100\n",
      "1198/1198 [==============================] - 6s 5ms/sample - loss: 0.0018 - accuracy: 0.0017\n",
      "Epoch 77/100\n",
      "1198/1198 [==============================] - 6s 5ms/sample - loss: 0.0018 - accuracy: 0.0017\n",
      "Epoch 78/100\n"
     ]
    },
    {
     "name": "stdout",
     "output_type": "stream",
     "text": [
      "1198/1198 [==============================] - 5s 5ms/sample - loss: 0.0017 - accuracy: 0.0017\n",
      "Epoch 79/100\n",
      "1198/1198 [==============================] - 5s 5ms/sample - loss: 0.0019 - accuracy: 0.0017\n",
      "Epoch 80/100\n",
      "1198/1198 [==============================] - 5s 5ms/sample - loss: 0.0018 - accuracy: 0.0017\n",
      "Epoch 81/100\n",
      "1198/1198 [==============================] - 5s 5ms/sample - loss: 0.0017 - accuracy: 0.0017\n",
      "Epoch 82/100\n",
      "1198/1198 [==============================] - 5s 5ms/sample - loss: 0.0016 - accuracy: 0.0017\n",
      "Epoch 83/100\n",
      "1198/1198 [==============================] - 5s 5ms/sample - loss: 0.0016 - accuracy: 0.0017\n",
      "Epoch 84/100\n",
      "1198/1198 [==============================] - 5s 5ms/sample - loss: 0.0016 - accuracy: 0.0017\n",
      "Epoch 85/100\n",
      "1198/1198 [==============================] - 5s 5ms/sample - loss: 0.0016 - accuracy: 0.0017\n",
      "Epoch 86/100\n",
      "1198/1198 [==============================] - 5s 5ms/sample - loss: 0.0016 - accuracy: 0.0017\n",
      "Epoch 87/100\n",
      "1198/1198 [==============================] - 5s 5ms/sample - loss: 0.0014 - accuracy: 0.0017\n",
      "Epoch 88/100\n",
      "1198/1198 [==============================] - 5s 5ms/sample - loss: 0.0017 - accuracy: 0.0017\n",
      "Epoch 89/100\n",
      "1198/1198 [==============================] - 5s 5ms/sample - loss: 0.0015 - accuracy: 0.0017\n",
      "Epoch 90/100\n",
      "1198/1198 [==============================] - 5s 5ms/sample - loss: 0.0016 - accuracy: 0.0017\n",
      "Epoch 91/100\n",
      "1198/1198 [==============================] - 5s 5ms/sample - loss: 0.0015 - accuracy: 0.0017\n",
      "Epoch 92/100\n",
      "1198/1198 [==============================] - 5s 5ms/sample - loss: 0.0016 - accuracy: 0.0017\n",
      "Epoch 93/100\n",
      "1198/1198 [==============================] - 5s 5ms/sample - loss: 0.0016 - accuracy: 0.0017\n",
      "Epoch 94/100\n",
      "1198/1198 [==============================] - 5s 5ms/sample - loss: 0.0014 - accuracy: 0.0017\n",
      "Epoch 95/100\n",
      "1198/1198 [==============================] - 5s 5ms/sample - loss: 0.0016 - accuracy: 0.0017\n",
      "Epoch 96/100\n",
      "1198/1198 [==============================] - 5s 5ms/sample - loss: 0.0014 - accuracy: 0.0017\n",
      "Epoch 97/100\n",
      "1198/1198 [==============================] - 5s 5ms/sample - loss: 0.0015 - accuracy: 0.0017\n",
      "Epoch 98/100\n",
      "1198/1198 [==============================] - 5s 5ms/sample - loss: 0.0015 - accuracy: 0.0017\n",
      "Epoch 99/100\n",
      "1198/1198 [==============================] - 5s 5ms/sample - loss: 0.0014 - accuracy: 0.0017\n",
      "Epoch 100/100\n",
      "1198/1198 [==============================] - 5s 5ms/sample - loss: 0.0013 - accuracy: 0.0017\n"
     ]
    }
   ],
   "source": [
    "history = regressor.fit(\n",
    "    X_train,\n",
    "    y_train,\n",
    "    epochs=100,\n",
    "    batch_size=32,\n",
    "    callbacks=callback\n",
    ")"
   ]
  },
  {
   "cell_type": "markdown",
   "metadata": {},
   "source": [
    "<font size=\"3\">Although the accuracy is very poor but our goal is not to perfectly fit the predicted into the actual stocks. We only need an approximation of when it will go down and when it will go up</font>"
   ]
  },
  {
   "cell_type": "markdown",
   "metadata": {},
   "source": [
    "# Seeing the predicted data"
   ]
  },
  {
   "cell_type": "markdown",
   "metadata": {},
   "source": [
    "**As we have to preprocess the training data so that we can fit it into predictor**"
   ]
  },
  {
   "cell_type": "code",
   "execution_count": 15,
   "metadata": {},
   "outputs": [],
   "source": [
    "real_stock_price = df_test.iloc[:, 1:2].values\n",
    "\n",
    "# Getting the predicted price\n",
    "df_total = pd.concat((df_train['Open'],df_test['Open']), axis=0)"
   ]
  },
  {
   "cell_type": "code",
   "execution_count": 16,
   "metadata": {},
   "outputs": [
    {
     "data": {
      "text/plain": [
       "array([779.  , 779.66, 777.71, 786.66, 783.76, 781.22, 781.65, 779.8 ,\n",
       "       787.85, 798.24, 803.3 , 795.  , 804.9 , 816.68, 806.34, 801.  ,\n",
       "       808.35, 795.47, 782.89, 778.2 , 767.25, 750.66, 774.5 , 783.4 ,\n",
       "       779.94, 791.17, 756.54, 755.6 , 746.97, 755.2 , 766.92, 771.37,\n",
       "       762.61, 772.63, 767.73, 764.26, 760.  , 771.53, 770.07, 757.44,\n",
       "       744.59, 757.71, 764.73, 761.  , 772.48, 780.  , 785.04, 793.9 ,\n",
       "       797.4 , 797.34, 800.4 , 790.22, 796.76, 795.84, 792.36, 790.9 ,\n",
       "       790.68, 793.7 , 783.33, 782.75, 778.81, 788.36, 786.08, 795.26,\n",
       "       806.4 , 807.86, 805.  , 807.14, 807.48, 807.08, 805.81, 805.12,\n",
       "       806.91, 807.25, 822.3 , 829.62, 837.81, 834.71, 814.66, 796.86])"
      ]
     },
     "execution_count": 16,
     "metadata": {},
     "output_type": "execute_result"
    }
   ],
   "source": [
    "inputs = df_total[len(df_total)-len(df_test)-60:].values\n",
    "inputs"
   ]
  },
  {
   "cell_type": "code",
   "execution_count": 17,
   "metadata": {
    "scrolled": true
   },
   "outputs": [],
   "source": [
    "inputs = inputs.reshape(-1, 1)\n",
    "inputs = sc.transform(inputs)"
   ]
  },
  {
   "cell_type": "code",
   "execution_count": 18,
   "metadata": {},
   "outputs": [],
   "source": [
    "# Create a data structure with 60 timsteps and 1 output\n",
    "\n",
    "X_test = []\n",
    "\n",
    "for i in range(60,80):\n",
    "    X_test.append(inputs[i-60:i, 0])\n",
    "    \n",
    "X_test = np.array(X_test)"
   ]
  },
  {
   "cell_type": "code",
   "execution_count": 19,
   "metadata": {},
   "outputs": [],
   "source": [
    "X_test = np.reshape(X_test, (X_test.shape[0], X_test.shape[1], 1))"
   ]
  },
  {
   "cell_type": "markdown",
   "metadata": {},
   "source": [
    "<font size=\"4\">**To plot the Graph we have to transform the predicted value to the scale of their original data**</font>"
   ]
  },
  {
   "cell_type": "code",
   "execution_count": 20,
   "metadata": {},
   "outputs": [],
   "source": [
    "predicted_stock_price = regressor.predict(X_test)\n",
    "predicted_stock_price = sc.inverse_transform(predicted_stock_price)"
   ]
  },
  {
   "cell_type": "code",
   "execution_count": 21,
   "metadata": {},
   "outputs": [
    {
     "data": {
      "text/plain": [
       "<matplotlib.legend.Legend at 0x7f964dfcfe10>"
      ]
     },
     "execution_count": 21,
     "metadata": {},
     "output_type": "execute_result"
    },
    {
     "data": {
      "image/png": "[encoded data removed]",
      "text/plain": [
       "<Figure size 432x288 with 1 Axes>"
      ]
     },
     "metadata": {},
     "output_type": "display_data"
    }
   ],
   "source": [
    "import seaborn as sns\n",
    "sns.set()\n",
    "plt.plot(real_stock_price, label=\"Real Stock Price\")\n",
    "plt.plot(predicted_stock_price, label=\"Predicted Stock Price\")\n",
    "plt.title(\"Stock Prize prediction\")\n",
    "plt.legend()"
   ]
  },
  {
   "cell_type": "markdown",
   "metadata": {},
   "source": [
    "<font size=\"5\">So we can see the the predicted Stock Price is more or less similar to actual Stock Price over a Month</font>"
   ]
  },
  {
   "cell_type": "code",
   "execution_count": 22,
   "metadata": {},
   "outputs": [
    {
     "data": {
      "image/png": "[encoded data removed]",
      "text/plain": [
       "<Figure size 432x288 with 1 Axes>"
      ]
     },
     "metadata": {},
     "output_type": "display_data"
    }
   ],
   "source": [
    "sns.lineplot(history.epoch, history.history['loss'], label='train')\n",
    "plt.title('Loss')\n",
    "plt.tight_layout()"
   ]
  }
 ],
 "metadata": {
  "kernelspec": {
   "display_name": "Python 3",
   "language": "python",
   "name": "python3"
  },
  "language_info": {
   "codemirror_mode": {
    "name": "ipython",
    "version": 3
   },
   "file_extension": ".py",
   "mimetype": "text/x-python",
   "name": "python",
   "nbconvert_exporter": "python",
   "pygments_lexer": "ipython3",
   "version": "3.7.4"
  },
  "latex_envs": {
   "LaTeX_envs_menu_present": true,
   "autoclose": false,
   "autocomplete": true,
   "bibliofile": "biblio.bib",
   "cite_by": "apalike",
   "current_citInitial": 1,
   "eqLabelWithNumbers": true,
   "eqNumInitial": 1,
   "hotkeys": {
    "equation": "Ctrl-E",
    "itemize": "Ctrl-I"
   },
   "labels_anchors": false,
   "latex_user_defs": false,
   "report_style_numbering": false,
   "user_envs_cfg": false
  },
  "toc": {
   "base_numbering": 1,
   "nav_menu": {},
   "number_sections": true,
   "sideBar": true,
   "skip_h1_title": false,
   "title_cell": "Table of Contents",
   "title_sidebar": "Contents",
   "toc_cell": false,
   "toc_position": {},
   "toc_section_display": true,
   "toc_window_display": false
  }
 },
 "nbformat": 4,
 "nbformat_minor": 2
}
